{
 "cells": [
  {
   "cell_type": "code",
   "execution_count": 1,
   "id": "d43b3823",
   "metadata": {
    "ExecuteTime": {
     "end_time": "2022-05-12T18:32:04.776036Z",
     "start_time": "2022-05-12T18:32:04.036220Z"
    }
   },
   "outputs": [],
   "source": [
    "import pandas as pd\n",
    "from collections import OrderedDict"
   ]
  },
  {
   "cell_type": "code",
   "execution_count": 2,
   "id": "ca4522c3",
   "metadata": {
    "ExecuteTime": {
     "end_time": "2022-05-12T18:32:16.312553Z",
     "start_time": "2022-05-12T18:32:04.776036Z"
    }
   },
   "outputs": [],
   "source": [
    "df=pd.read_excel('Xiaomi Raw Data.xlsx')"
   ]
  },
  {
   "cell_type": "code",
   "execution_count": 3,
   "id": "82f3b052",
   "metadata": {
    "ExecuteTime": {
     "end_time": "2022-05-12T18:32:16.327863Z",
     "start_time": "2022-05-12T18:32:16.315870Z"
    }
   },
   "outputs": [
    {
     "data": {
      "text/plain": [
       "(43200, 7)"
      ]
     },
     "execution_count": 3,
     "metadata": {},
     "output_type": "execute_result"
    }
   ],
   "source": [
    "df.shape"
   ]
  },
  {
   "cell_type": "code",
   "execution_count": 4,
   "id": "5e84729d",
   "metadata": {
    "ExecuteTime": {
     "end_time": "2022-05-12T18:32:16.662382Z",
     "start_time": "2022-05-12T18:32:16.330558Z"
    }
   },
   "outputs": [
    {
     "data": {
      "text/html": [
       "<div>\n",
       "<style scoped>\n",
       "    .dataframe tbody tr th:only-of-type {\n",
       "        vertical-align: middle;\n",
       "    }\n",
       "\n",
       "    .dataframe tbody tr th {\n",
       "        vertical-align: top;\n",
       "    }\n",
       "\n",
       "    .dataframe thead th {\n",
       "        text-align: right;\n",
       "    }\n",
       "</style>\n",
       "<table border=\"1\" class=\"dataframe\">\n",
       "  <thead>\n",
       "    <tr style=\"text-align: right;\">\n",
       "      <th></th>\n",
       "      <th>Customer</th>\n",
       "      <th>No. of Clicks</th>\n",
       "      <th>Pages Viewed</th>\n",
       "      <th>Time (min)</th>\n",
       "      <th>Amount Spent (Rs.)</th>\n",
       "    </tr>\n",
       "  </thead>\n",
       "  <tbody>\n",
       "    <tr>\n",
       "      <th>count</th>\n",
       "      <td>43200.000000</td>\n",
       "      <td>43200.000000</td>\n",
       "      <td>43200.000000</td>\n",
       "      <td>43200.000000</td>\n",
       "      <td>43200.000000</td>\n",
       "    </tr>\n",
       "    <tr>\n",
       "      <th>mean</th>\n",
       "      <td>21600.500000</td>\n",
       "      <td>23.740000</td>\n",
       "      <td>4.820000</td>\n",
       "      <td>12.810000</td>\n",
       "      <td>6812.820000</td>\n",
       "    </tr>\n",
       "    <tr>\n",
       "      <th>std</th>\n",
       "      <td>12470.910151</td>\n",
       "      <td>8.267647</td>\n",
       "      <td>2.016853</td>\n",
       "      <td>6.002444</td>\n",
       "      <td>3201.905731</td>\n",
       "    </tr>\n",
       "    <tr>\n",
       "      <th>min</th>\n",
       "      <td>1.000000</td>\n",
       "      <td>8.000000</td>\n",
       "      <td>2.000000</td>\n",
       "      <td>4.300000</td>\n",
       "      <td>1784.000000</td>\n",
       "    </tr>\n",
       "    <tr>\n",
       "      <th>25%</th>\n",
       "      <td>10800.750000</td>\n",
       "      <td>18.000000</td>\n",
       "      <td>3.000000</td>\n",
       "      <td>8.500000</td>\n",
       "      <td>4473.000000</td>\n",
       "    </tr>\n",
       "    <tr>\n",
       "      <th>50%</th>\n",
       "      <td>21600.500000</td>\n",
       "      <td>22.500000</td>\n",
       "      <td>4.500000</td>\n",
       "      <td>11.400000</td>\n",
       "      <td>6215.000000</td>\n",
       "    </tr>\n",
       "    <tr>\n",
       "      <th>75%</th>\n",
       "      <td>32400.250000</td>\n",
       "      <td>29.000000</td>\n",
       "      <td>6.000000</td>\n",
       "      <td>15.100000</td>\n",
       "      <td>8412.000000</td>\n",
       "    </tr>\n",
       "    <tr>\n",
       "      <th>max</th>\n",
       "      <td>43200.000000</td>\n",
       "      <td>46.000000</td>\n",
       "      <td>10.000000</td>\n",
       "      <td>32.900000</td>\n",
       "      <td>15851.000000</td>\n",
       "    </tr>\n",
       "  </tbody>\n",
       "</table>\n",
       "</div>"
      ],
      "text/plain": [
       "           Customer  No. of Clicks  Pages Viewed    Time (min)  \\\n",
       "count  43200.000000   43200.000000  43200.000000  43200.000000   \n",
       "mean   21600.500000      23.740000      4.820000     12.810000   \n",
       "std    12470.910151       8.267647      2.016853      6.002444   \n",
       "min        1.000000       8.000000      2.000000      4.300000   \n",
       "25%    10800.750000      18.000000      3.000000      8.500000   \n",
       "50%    21600.500000      22.500000      4.500000     11.400000   \n",
       "75%    32400.250000      29.000000      6.000000     15.100000   \n",
       "max    43200.000000      46.000000     10.000000     32.900000   \n",
       "\n",
       "       Amount Spent (Rs.)  \n",
       "count        43200.000000  \n",
       "mean          6812.820000  \n",
       "std           3201.905731  \n",
       "min           1784.000000  \n",
       "25%           4473.000000  \n",
       "50%           6215.000000  \n",
       "75%           8412.000000  \n",
       "max          15851.000000  "
      ]
     },
     "execution_count": 4,
     "metadata": {},
     "output_type": "execute_result"
    }
   ],
   "source": [
    "df.describe()  #we are not getting categorical variables"
   ]
  },
  {
   "cell_type": "code",
   "execution_count": 5,
   "id": "2cc7e6f5",
   "metadata": {
    "ExecuteTime": {
     "end_time": "2022-05-12T18:32:16.756246Z",
     "start_time": "2022-05-12T18:32:16.664382Z"
    }
   },
   "outputs": [
    {
     "data": {
      "text/html": [
       "<div>\n",
       "<style scoped>\n",
       "    .dataframe tbody tr th:only-of-type {\n",
       "        vertical-align: middle;\n",
       "    }\n",
       "\n",
       "    .dataframe tbody tr th {\n",
       "        vertical-align: top;\n",
       "    }\n",
       "\n",
       "    .dataframe thead th {\n",
       "        text-align: right;\n",
       "    }\n",
       "</style>\n",
       "<table border=\"1\" class=\"dataframe\">\n",
       "  <thead>\n",
       "    <tr style=\"text-align: right;\">\n",
       "      <th></th>\n",
       "      <th>Customer</th>\n",
       "      <th>Day</th>\n",
       "      <th>Browser</th>\n",
       "      <th>No. of Clicks</th>\n",
       "      <th>Pages Viewed</th>\n",
       "      <th>Time (min)</th>\n",
       "      <th>Amount Spent (Rs.)</th>\n",
       "    </tr>\n",
       "  </thead>\n",
       "  <tbody>\n",
       "    <tr>\n",
       "      <th>count</th>\n",
       "      <td>43200.000000</td>\n",
       "      <td>43200</td>\n",
       "      <td>43200</td>\n",
       "      <td>43200.000000</td>\n",
       "      <td>43200.000000</td>\n",
       "      <td>43200.000000</td>\n",
       "      <td>43200.000000</td>\n",
       "    </tr>\n",
       "    <tr>\n",
       "      <th>unique</th>\n",
       "      <td>NaN</td>\n",
       "      <td>7</td>\n",
       "      <td>3</td>\n",
       "      <td>NaN</td>\n",
       "      <td>NaN</td>\n",
       "      <td>NaN</td>\n",
       "      <td>NaN</td>\n",
       "    </tr>\n",
       "    <tr>\n",
       "      <th>top</th>\n",
       "      <td>NaN</td>\n",
       "      <td>Friday</td>\n",
       "      <td>Chrome</td>\n",
       "      <td>NaN</td>\n",
       "      <td>NaN</td>\n",
       "      <td>NaN</td>\n",
       "      <td>NaN</td>\n",
       "    </tr>\n",
       "    <tr>\n",
       "      <th>freq</th>\n",
       "      <td>NaN</td>\n",
       "      <td>9504</td>\n",
       "      <td>23328</td>\n",
       "      <td>NaN</td>\n",
       "      <td>NaN</td>\n",
       "      <td>NaN</td>\n",
       "      <td>NaN</td>\n",
       "    </tr>\n",
       "    <tr>\n",
       "      <th>mean</th>\n",
       "      <td>21600.500000</td>\n",
       "      <td>NaN</td>\n",
       "      <td>NaN</td>\n",
       "      <td>23.740000</td>\n",
       "      <td>4.820000</td>\n",
       "      <td>12.810000</td>\n",
       "      <td>6812.820000</td>\n",
       "    </tr>\n",
       "    <tr>\n",
       "      <th>std</th>\n",
       "      <td>12470.910151</td>\n",
       "      <td>NaN</td>\n",
       "      <td>NaN</td>\n",
       "      <td>8.267647</td>\n",
       "      <td>2.016853</td>\n",
       "      <td>6.002444</td>\n",
       "      <td>3201.905731</td>\n",
       "    </tr>\n",
       "    <tr>\n",
       "      <th>min</th>\n",
       "      <td>1.000000</td>\n",
       "      <td>NaN</td>\n",
       "      <td>NaN</td>\n",
       "      <td>8.000000</td>\n",
       "      <td>2.000000</td>\n",
       "      <td>4.300000</td>\n",
       "      <td>1784.000000</td>\n",
       "    </tr>\n",
       "    <tr>\n",
       "      <th>25%</th>\n",
       "      <td>10800.750000</td>\n",
       "      <td>NaN</td>\n",
       "      <td>NaN</td>\n",
       "      <td>18.000000</td>\n",
       "      <td>3.000000</td>\n",
       "      <td>8.500000</td>\n",
       "      <td>4473.000000</td>\n",
       "    </tr>\n",
       "    <tr>\n",
       "      <th>50%</th>\n",
       "      <td>21600.500000</td>\n",
       "      <td>NaN</td>\n",
       "      <td>NaN</td>\n",
       "      <td>22.500000</td>\n",
       "      <td>4.500000</td>\n",
       "      <td>11.400000</td>\n",
       "      <td>6215.000000</td>\n",
       "    </tr>\n",
       "    <tr>\n",
       "      <th>75%</th>\n",
       "      <td>32400.250000</td>\n",
       "      <td>NaN</td>\n",
       "      <td>NaN</td>\n",
       "      <td>29.000000</td>\n",
       "      <td>6.000000</td>\n",
       "      <td>15.100000</td>\n",
       "      <td>8412.000000</td>\n",
       "    </tr>\n",
       "    <tr>\n",
       "      <th>max</th>\n",
       "      <td>43200.000000</td>\n",
       "      <td>NaN</td>\n",
       "      <td>NaN</td>\n",
       "      <td>46.000000</td>\n",
       "      <td>10.000000</td>\n",
       "      <td>32.900000</td>\n",
       "      <td>15851.000000</td>\n",
       "    </tr>\n",
       "  </tbody>\n",
       "</table>\n",
       "</div>"
      ],
      "text/plain": [
       "            Customer     Day Browser  No. of Clicks  Pages Viewed  \\\n",
       "count   43200.000000   43200   43200   43200.000000  43200.000000   \n",
       "unique           NaN       7       3            NaN           NaN   \n",
       "top              NaN  Friday  Chrome            NaN           NaN   \n",
       "freq             NaN    9504   23328            NaN           NaN   \n",
       "mean    21600.500000     NaN     NaN      23.740000      4.820000   \n",
       "std     12470.910151     NaN     NaN       8.267647      2.016853   \n",
       "min         1.000000     NaN     NaN       8.000000      2.000000   \n",
       "25%     10800.750000     NaN     NaN      18.000000      3.000000   \n",
       "50%     21600.500000     NaN     NaN      22.500000      4.500000   \n",
       "75%     32400.250000     NaN     NaN      29.000000      6.000000   \n",
       "max     43200.000000     NaN     NaN      46.000000     10.000000   \n",
       "\n",
       "          Time (min)  Amount Spent (Rs.)  \n",
       "count   43200.000000        43200.000000  \n",
       "unique           NaN                 NaN  \n",
       "top              NaN                 NaN  \n",
       "freq             NaN                 NaN  \n",
       "mean       12.810000         6812.820000  \n",
       "std         6.002444         3201.905731  \n",
       "min         4.300000         1784.000000  \n",
       "25%         8.500000         4473.000000  \n",
       "50%        11.400000         6215.000000  \n",
       "75%        15.100000         8412.000000  \n",
       "max        32.900000        15851.000000  "
      ]
     },
     "execution_count": 5,
     "metadata": {},
     "output_type": "execute_result"
    }
   ],
   "source": [
    "df.describe(include='all')  #unique,top,freq is for categorical variables"
   ]
  },
  {
   "cell_type": "code",
   "execution_count": 6,
   "id": "30d053b1",
   "metadata": {
    "ExecuteTime": {
     "end_time": "2022-05-12T18:32:16.818826Z",
     "start_time": "2022-05-12T18:32:16.759245Z"
    }
   },
   "outputs": [
    {
     "data": {
      "text/plain": [
       "Customer              0\n",
       "Day                   0\n",
       "Browser               0\n",
       "No. of Clicks         0\n",
       "Pages Viewed          0\n",
       "Time (min)            0\n",
       "Amount Spent (Rs.)    0\n",
       "dtype: int64"
      ]
     },
     "execution_count": 6,
     "metadata": {},
     "output_type": "execute_result"
    }
   ],
   "source": [
    "df.isnull().sum()"
   ]
  },
  {
   "cell_type": "markdown",
   "id": "edb8d5b3",
   "metadata": {},
   "source": [
    "#  Custom Summary"
   ]
  },
  {
   "cell_type": "code",
   "execution_count": 7,
   "id": "55aca922",
   "metadata": {
    "ExecuteTime": {
     "end_time": "2022-05-12T18:32:16.961042Z",
     "start_time": "2022-05-12T18:32:16.821824Z"
    }
   },
   "outputs": [
    {
     "data": {
      "text/plain": [
       "Index(['Customer', 'Day', 'Browser', 'No. of Clicks', 'Pages Viewed',\n",
       "       'Time (min)', 'Amount Spent (Rs.)'],\n",
       "      dtype='object')"
      ]
     },
     "execution_count": 7,
     "metadata": {},
     "output_type": "execute_result"
    }
   ],
   "source": [
    "df.columns"
   ]
  },
  {
   "cell_type": "markdown",
   "id": "a5ea7850",
   "metadata": {},
   "source": [
    "#### creating dataframe named columns which will contain only continuous variables"
   ]
  },
  {
   "cell_type": "code",
   "execution_count": 8,
   "id": "2b12e3fc",
   "metadata": {
    "ExecuteTime": {
     "end_time": "2022-05-12T18:32:17.055158Z",
     "start_time": "2022-05-12T18:32:16.972028Z"
    }
   },
   "outputs": [],
   "source": [
    "cont_data=[] #storing continuous columns\n",
    "for i in df.columns:\n",
    "    if df[i].dtype!='object':\n",
    "        cont_data.append(i)"
   ]
  },
  {
   "cell_type": "code",
   "execution_count": 9,
   "id": "79a580c6",
   "metadata": {
    "ExecuteTime": {
     "end_time": "2022-05-12T18:32:17.164841Z",
     "start_time": "2022-05-12T18:32:17.061155Z"
    }
   },
   "outputs": [
    {
     "data": {
      "text/plain": [
       "['Customer',\n",
       " 'No. of Clicks',\n",
       " 'Pages Viewed',\n",
       " 'Time (min)',\n",
       " 'Amount Spent (Rs.)']"
      ]
     },
     "execution_count": 9,
     "metadata": {},
     "output_type": "execute_result"
    }
   ],
   "source": [
    "cont_data"
   ]
  },
  {
   "cell_type": "markdown",
   "id": "e5968b4a",
   "metadata": {},
   "source": [
    "### how to create ordered dictionary which will later be made a dataframe"
   ]
  },
  {
   "cell_type": "code",
   "execution_count": 14,
   "id": "1bc86215",
   "metadata": {
    "ExecuteTime": {
     "end_time": "2022-05-12T18:32:22.041626Z",
     "start_time": "2022-05-12T18:32:21.976668Z"
    }
   },
   "outputs": [
    {
     "data": {
      "text/plain": [
       "[OrderedDict([('Feature Name', 'Customer'),\n",
       "              ('Count', 43200),\n",
       "              ('Minimum', 1),\n",
       "              ('Quartile1', 10800.75),\n",
       "              ('Quartile2', 21600.5),\n",
       "              ('Mean', 21600.5),\n",
       "              ('Quartile3', 32400.25),\n",
       "              ('Maximum', 43200),\n",
       "              ('Variance', 155523600.0),\n",
       "              ('Standard Dev', 12470.91),\n",
       "              ('Skewness', 0.0),\n",
       "              ('Kurtosis', -1.2000000000000002)]),\n",
       " OrderedDict([('Feature Name', 'No. of Clicks'),\n",
       "              ('Count', 43200),\n",
       "              ('Minimum', 8),\n",
       "              ('Quartile1', 18.0),\n",
       "              ('Quartile2', 22.5),\n",
       "              ('Mean', 23.74),\n",
       "              ('Quartile3', 29.0),\n",
       "              ('Maximum', 46),\n",
       "              ('Variance', 68.0),\n",
       "              ('Standard Dev', 8.27),\n",
       "              ('Skewness', 0.6778995487598704),\n",
       "              ('Kurtosis', 0.025564361415895576)]),\n",
       " OrderedDict([('Feature Name', 'Pages Viewed'),\n",
       "              ('Count', 43200),\n",
       "              ('Minimum', 2),\n",
       "              ('Quartile1', 3.0),\n",
       "              ('Quartile2', 4.5),\n",
       "              ('Mean', 4.82),\n",
       "              ('Quartile3', 6.0),\n",
       "              ('Maximum', 10),\n",
       "              ('Variance', 4.0),\n",
       "              ('Standard Dev', 2.02),\n",
       "              ('Skewness', 0.6268565557009698),\n",
       "              ('Kurtosis', 0.03487054911476628)]),\n",
       " OrderedDict([('Feature Name', 'Time (min)'),\n",
       "              ('Count', 43200),\n",
       "              ('Minimum', 4.3),\n",
       "              ('Quartile1', 8.5),\n",
       "              ('Quartile2', 11.4),\n",
       "              ('Mean', 12.809999999998897),\n",
       "              ('Quartile3', 15.1),\n",
       "              ('Maximum', 32.9),\n",
       "              ('Variance', 36.0),\n",
       "              ('Standard Dev', 6.0),\n",
       "              ('Skewness', 1.4060181793149642),\n",
       "              ('Kurtosis', 2.053011435338542)]),\n",
       " OrderedDict([('Feature Name', 'Amount Spent (Rs.)'),\n",
       "              ('Count', 43200),\n",
       "              ('Minimum', 1784.0000000000005),\n",
       "              ('Quartile1', 4473.0),\n",
       "              ('Quartile2', 6215.0),\n",
       "              ('Mean', 6812.82),\n",
       "              ('Quartile3', 8412.0),\n",
       "              ('Maximum', 15851.0),\n",
       "              ('Variance', 10252200.0),\n",
       "              ('Standard Dev', 3201.91),\n",
       "              ('Skewness', 1.0173434048972814),\n",
       "              ('Kurtosis', 0.6738818672129518)])]"
      ]
     },
     "execution_count": 14,
     "metadata": {},
     "output_type": "execute_result"
    }
   ],
   "source": [
    "result=[]\n",
    "for col in df.columns:\n",
    "    if df[col].dtype != 'object':\n",
    "        stats=OrderedDict({     #this is local variable not global var\n",
    "            'Feature Name':col,\n",
    "            'Count':df[col].count(),\n",
    "            'Minimum':df[col].min(),\n",
    "            'Quartile1':df[col].quantile(0.25),\n",
    "            'Quartile2':df[col].quantile(0.5),\n",
    "            'Mean':df[col].mean(),\n",
    "            'Quartile3':df[col].quantile(0.75),\n",
    "            'Maximum':df[col].max(),\n",
    "            'Variance':round(df[col].var(),0),\n",
    "            'Standard Dev':round(df[col].std(),2),\n",
    "            'Skewness':df[col].skew(),\n",
    "            'Kurtosis':df[col].kurt()\n",
    "             })\n",
    "        result.append(stats)\n",
    "result"
   ]
  },
  {
   "cell_type": "code",
   "execution_count": 11,
   "id": "35dea0da",
   "metadata": {
    "ExecuteTime": {
     "end_time": "2022-05-12T18:32:17.593838Z",
     "start_time": "2022-05-12T18:32:17.442502Z"
    }
   },
   "outputs": [],
   "source": [
    "def custom_summary(my_df):\n",
    "    result=[]\n",
    "    for col in my_df.columns:\n",
    "        if my_df[col].dtype != 'object':\n",
    "            stats=OrderedDict({     #this is local variable not global var\n",
    "                'Feature Name':col,\n",
    "                'Count':my_df[col].count(),\n",
    "                'Minimum':my_df[col].min(),\n",
    "                'Quartile1':my_df[col].quantile(0.25),\n",
    "                'Quartile2':my_df[col].quantile(0.5),\n",
    "                'Mean':my_df[col].mean(),\n",
    "                'Quartile3':my_df[col].quantile(0.75),\n",
    "                'Maximum':my_df[col].max(),\n",
    "                'Variance':round(my_df[col].var(),0),\n",
    "                'Standard Dev':round(my_df[col].std(),2),\n",
    "                'Skewness':my_df[col].skew(),\n",
    "                'Kurtosis':my_df[col].kurt()\n",
    "                 })\n",
    "            result.append(stats)\n",
    "    result_df=pd.DataFrame(result)\n",
    "    #skewness type\n",
    "    Skewness_label=[]\n",
    "    for i in result_df['Skewness']:\n",
    "        if i<=-1 :\n",
    "            Skewness_label.append('Highly Negatively Skewed')\n",
    "        elif -1<i<=-0.5:\n",
    "            Skewness_label.append('Moderately Negatively Skewed')\n",
    "        elif -0.5<i<0:\n",
    "             Skewness_label.append('Fairly Negatively Skewed')\n",
    "        elif 0<=i<0.5:\n",
    "            Skewness_label.append('Fairly Positively Skewed')\n",
    "        elif 0.5<=i<1:\n",
    "              Skewness_label.append('Moderately Positively Skewed')\n",
    "        elif i>=1:\n",
    "              Skewness_label.append('Highly Positively Skewed')\n",
    "    result_df['Skewness Comment']=Skewness_label\n",
    "    Kurtosis_label=[]\n",
    "    for i in result_df['Kurtosis']:\n",
    "        if i<=-1:\n",
    "            Kurtosis_label.append('Platykurtic curve')\n",
    "        elif i>=1:\n",
    "            Kurtosis_label.append('Leptokurtic curve')\n",
    "        else:\n",
    "            Kurtosis_label.append('Mesokurtic curve')\n",
    "    result_df['Kurtosis Comment']=Kurtosis_label \n",
    "    return result_df\n",
    "        "
   ]
  },
  {
   "cell_type": "code",
   "execution_count": 12,
   "id": "4d162345",
   "metadata": {
    "ExecuteTime": {
     "end_time": "2022-05-12T18:32:17.954178Z",
     "start_time": "2022-05-12T18:32:17.602864Z"
    }
   },
   "outputs": [
    {
     "data": {
      "text/html": [
       "<div>\n",
       "<style scoped>\n",
       "    .dataframe tbody tr th:only-of-type {\n",
       "        vertical-align: middle;\n",
       "    }\n",
       "\n",
       "    .dataframe tbody tr th {\n",
       "        vertical-align: top;\n",
       "    }\n",
       "\n",
       "    .dataframe thead th {\n",
       "        text-align: right;\n",
       "    }\n",
       "</style>\n",
       "<table border=\"1\" class=\"dataframe\">\n",
       "  <thead>\n",
       "    <tr style=\"text-align: right;\">\n",
       "      <th></th>\n",
       "      <th>Feature Name</th>\n",
       "      <th>Count</th>\n",
       "      <th>Minimum</th>\n",
       "      <th>Quartile1</th>\n",
       "      <th>Quartile2</th>\n",
       "      <th>Mean</th>\n",
       "      <th>Quartile3</th>\n",
       "      <th>Maximum</th>\n",
       "      <th>Variance</th>\n",
       "      <th>Standard Dev</th>\n",
       "      <th>Skewness</th>\n",
       "      <th>Kurtosis</th>\n",
       "      <th>Skewness Comment</th>\n",
       "      <th>Kurtosis Comment</th>\n",
       "    </tr>\n",
       "  </thead>\n",
       "  <tbody>\n",
       "    <tr>\n",
       "      <th>0</th>\n",
       "      <td>Customer</td>\n",
       "      <td>43200</td>\n",
       "      <td>1.0</td>\n",
       "      <td>10800.75</td>\n",
       "      <td>21600.5</td>\n",
       "      <td>21600.50</td>\n",
       "      <td>32400.25</td>\n",
       "      <td>43200.0</td>\n",
       "      <td>155523600.0</td>\n",
       "      <td>12470.91</td>\n",
       "      <td>0.000000</td>\n",
       "      <td>-1.200000</td>\n",
       "      <td>Fairly Positively Skewed</td>\n",
       "      <td>Platykurtic curve</td>\n",
       "    </tr>\n",
       "    <tr>\n",
       "      <th>1</th>\n",
       "      <td>No. of Clicks</td>\n",
       "      <td>43200</td>\n",
       "      <td>8.0</td>\n",
       "      <td>18.00</td>\n",
       "      <td>22.5</td>\n",
       "      <td>23.74</td>\n",
       "      <td>29.00</td>\n",
       "      <td>46.0</td>\n",
       "      <td>68.0</td>\n",
       "      <td>8.27</td>\n",
       "      <td>0.677900</td>\n",
       "      <td>0.025564</td>\n",
       "      <td>Moderately Positively Skewed</td>\n",
       "      <td>Mesokurtic curve</td>\n",
       "    </tr>\n",
       "    <tr>\n",
       "      <th>2</th>\n",
       "      <td>Pages Viewed</td>\n",
       "      <td>43200</td>\n",
       "      <td>2.0</td>\n",
       "      <td>3.00</td>\n",
       "      <td>4.5</td>\n",
       "      <td>4.82</td>\n",
       "      <td>6.00</td>\n",
       "      <td>10.0</td>\n",
       "      <td>4.0</td>\n",
       "      <td>2.02</td>\n",
       "      <td>0.626857</td>\n",
       "      <td>0.034871</td>\n",
       "      <td>Moderately Positively Skewed</td>\n",
       "      <td>Mesokurtic curve</td>\n",
       "    </tr>\n",
       "    <tr>\n",
       "      <th>3</th>\n",
       "      <td>Time (min)</td>\n",
       "      <td>43200</td>\n",
       "      <td>4.3</td>\n",
       "      <td>8.50</td>\n",
       "      <td>11.4</td>\n",
       "      <td>12.81</td>\n",
       "      <td>15.10</td>\n",
       "      <td>32.9</td>\n",
       "      <td>36.0</td>\n",
       "      <td>6.00</td>\n",
       "      <td>1.406018</td>\n",
       "      <td>2.053011</td>\n",
       "      <td>Highly Positively Skewed</td>\n",
       "      <td>Leptokurtic curve</td>\n",
       "    </tr>\n",
       "    <tr>\n",
       "      <th>4</th>\n",
       "      <td>Amount Spent (Rs.)</td>\n",
       "      <td>43200</td>\n",
       "      <td>1784.0</td>\n",
       "      <td>4473.00</td>\n",
       "      <td>6215.0</td>\n",
       "      <td>6812.82</td>\n",
       "      <td>8412.00</td>\n",
       "      <td>15851.0</td>\n",
       "      <td>10252200.0</td>\n",
       "      <td>3201.91</td>\n",
       "      <td>1.017343</td>\n",
       "      <td>0.673882</td>\n",
       "      <td>Highly Positively Skewed</td>\n",
       "      <td>Mesokurtic curve</td>\n",
       "    </tr>\n",
       "  </tbody>\n",
       "</table>\n",
       "</div>"
      ],
      "text/plain": [
       "         Feature Name  Count  Minimum  Quartile1  Quartile2      Mean  \\\n",
       "0            Customer  43200      1.0   10800.75    21600.5  21600.50   \n",
       "1       No. of Clicks  43200      8.0      18.00       22.5     23.74   \n",
       "2        Pages Viewed  43200      2.0       3.00        4.5      4.82   \n",
       "3          Time (min)  43200      4.3       8.50       11.4     12.81   \n",
       "4  Amount Spent (Rs.)  43200   1784.0    4473.00     6215.0   6812.82   \n",
       "\n",
       "   Quartile3  Maximum     Variance  Standard Dev  Skewness  Kurtosis  \\\n",
       "0   32400.25  43200.0  155523600.0      12470.91  0.000000 -1.200000   \n",
       "1      29.00     46.0         68.0          8.27  0.677900  0.025564   \n",
       "2       6.00     10.0          4.0          2.02  0.626857  0.034871   \n",
       "3      15.10     32.9         36.0          6.00  1.406018  2.053011   \n",
       "4    8412.00  15851.0   10252200.0       3201.91  1.017343  0.673882   \n",
       "\n",
       "               Skewness Comment   Kurtosis Comment  \n",
       "0      Fairly Positively Skewed  Platykurtic curve  \n",
       "1  Moderately Positively Skewed   Mesokurtic curve  \n",
       "2  Moderately Positively Skewed   Mesokurtic curve  \n",
       "3      Highly Positively Skewed  Leptokurtic curve  \n",
       "4      Highly Positively Skewed   Mesokurtic curve  "
      ]
     },
     "execution_count": 12,
     "metadata": {},
     "output_type": "execute_result"
    }
   ],
   "source": [
    "custom_summary(df)"
   ]
  },
  {
   "cell_type": "code",
   "execution_count": null,
   "id": "d7140699",
   "metadata": {},
   "outputs": [],
   "source": []
  }
 ],
 "metadata": {
  "kernelspec": {
   "display_name": "Python 3 (ipykernel)",
   "language": "python",
   "name": "python3"
  },
  "language_info": {
   "codemirror_mode": {
    "name": "ipython",
    "version": 3
   },
   "file_extension": ".py",
   "mimetype": "text/x-python",
   "name": "python",
   "nbconvert_exporter": "python",
   "pygments_lexer": "ipython3",
   "version": "3.9.7"
  }
 },
 "nbformat": 4,
 "nbformat_minor": 5
}
