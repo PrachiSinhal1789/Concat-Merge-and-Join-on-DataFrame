{
 "cells": [
  {
   "cell_type": "code",
   "execution_count": 1,
   "id": "b6b91b78",
   "metadata": {},
   "outputs": [],
   "source": [
    "l1=[1,2,3,4]"
   ]
  },
  {
   "cell_type": "code",
   "execution_count": 2,
   "id": "6b09f771",
   "metadata": {},
   "outputs": [],
   "source": [
    "l1.append(5)"
   ]
  },
  {
   "cell_type": "code",
   "execution_count": 3,
   "id": "b73e3f8b",
   "metadata": {},
   "outputs": [
    {
     "data": {
      "text/plain": [
       "[1, 2, 3, 4, 5]"
      ]
     },
     "execution_count": 3,
     "metadata": {},
     "output_type": "execute_result"
    }
   ],
   "source": [
    "l1\n"
   ]
  },
  {
   "cell_type": "code",
   "execution_count": 4,
   "id": "a418f7c6",
   "metadata": {},
   "outputs": [],
   "source": [
    "l2=l1.copy()"
   ]
  },
  {
   "cell_type": "code",
   "execution_count": 5,
   "id": "f720b6bc",
   "metadata": {},
   "outputs": [
    {
     "data": {
      "text/plain": [
       "[1, 2, 3, 4, 5]"
      ]
     },
     "execution_count": 5,
     "metadata": {},
     "output_type": "execute_result"
    }
   ],
   "source": [
    "l2\n"
   ]
  },
  {
   "cell_type": "code",
   "execution_count": 6,
   "id": "fcad58ab",
   "metadata": {},
   "outputs": [
    {
     "data": {
      "text/plain": [
       "<function list.count(value, /)>"
      ]
     },
     "execution_count": 6,
     "metadata": {},
     "output_type": "execute_result"
    }
   ],
   "source": [
    "l1.count\n"
   ]
  },
  {
   "cell_type": "code",
   "execution_count": 7,
   "id": "45841118",
   "metadata": {},
   "outputs": [],
   "source": [
    "l2=l1.extend(l1)"
   ]
  },
  {
   "cell_type": "code",
   "execution_count": 8,
   "id": "a7cea465",
   "metadata": {},
   "outputs": [],
   "source": [
    "l2"
   ]
  },
  {
   "cell_type": "code",
   "execution_count": 9,
   "id": "6932d8b2",
   "metadata": {},
   "outputs": [
    {
     "ename": "NameError",
     "evalue": "name 'count' is not defined",
     "output_type": "error",
     "traceback": [
      "\u001b[1;31m---------------------------------------------------------------------------\u001b[0m",
      "\u001b[1;31mNameError\u001b[0m                                 Traceback (most recent call last)",
      "\u001b[1;32m~\\AppData\\Local\\Temp/ipykernel_4316/1252542281.py\u001b[0m in \u001b[0;36m<module>\u001b[1;34m\u001b[0m\n\u001b[1;32m----> 1\u001b[1;33m \u001b[0mcount\u001b[0m\u001b[1;33m(\u001b[0m\u001b[0ml1\u001b[0m\u001b[1;33m)\u001b[0m\u001b[1;33m\u001b[0m\u001b[1;33m\u001b[0m\u001b[0m\n\u001b[0m",
      "\u001b[1;31mNameError\u001b[0m: name 'count' is not defined"
     ]
    }
   ],
   "source": [
    "count(l1)"
   ]
  },
  {
   "cell_type": "code",
   "execution_count": null,
   "id": "3a7fb278",
   "metadata": {},
   "outputs": [],
   "source": [
    "l2.clear()"
   ]
  },
  {
   "cell_type": "code",
   "execution_count": null,
   "id": "9ac90fef",
   "metadata": {},
   "outputs": [],
   "source": [
    "l3=[1,2]\n",
    "l3"
   ]
  },
  {
   "cell_type": "code",
   "execution_count": null,
   "id": "f754ed3e",
   "metadata": {},
   "outputs": [],
   "source": [
    "l3.clear()"
   ]
  },
  {
   "cell_type": "code",
   "execution_count": null,
   "id": "2f6ea5fe",
   "metadata": {},
   "outputs": [],
   "source": [
    "l3"
   ]
  },
  {
   "cell_type": "code",
   "execution_count": null,
   "id": "4a868796",
   "metadata": {},
   "outputs": [],
   "source": [
    "l4=l3.copy()"
   ]
  },
  {
   "cell_type": "code",
   "execution_count": null,
   "id": "c76b5d74",
   "metadata": {},
   "outputs": [],
   "source": [
    "l4"
   ]
  },
  {
   "cell_type": "code",
   "execution_count": null,
   "id": "4493562f",
   "metadata": {},
   "outputs": [],
   "source": [
    "a=l4.count()"
   ]
  },
  {
   "cell_type": "code",
   "execution_count": null,
   "id": "ec16f04c",
   "metadata": {},
   "outputs": [],
   "source": [
    "l4.extend(l1)"
   ]
  },
  {
   "cell_type": "code",
   "execution_count": null,
   "id": "41d2a8bd",
   "metadata": {},
   "outputs": [],
   "source": [
    "l4"
   ]
  },
  {
   "cell_type": "code",
   "execution_count": null,
   "id": "6d953c51",
   "metadata": {},
   "outputs": [],
   "source": [
    "l1=[1,2,3]\n",
    "l5=[4,5,4]\n",
    "l5.extend(l1)\n",
    "l5"
   ]
  },
  {
   "cell_type": "code",
   "execution_count": null,
   "id": "21ab6aab",
   "metadata": {},
   "outputs": [],
   "source": [
    "l5.count(2)"
   ]
  },
  {
   "cell_type": "code",
   "execution_count": null,
   "id": "461c28fe",
   "metadata": {},
   "outputs": [],
   "source": [
    "a=l5.index(4)"
   ]
  },
  {
   "cell_type": "code",
   "execution_count": null,
   "id": "e27a0761",
   "metadata": {},
   "outputs": [],
   "source": [
    "a"
   ]
  },
  {
   "cell_type": "code",
   "execution_count": null,
   "id": "57690622",
   "metadata": {},
   "outputs": [],
   "source": [
    "l5.insert(6,3)"
   ]
  },
  {
   "cell_type": "code",
   "execution_count": null,
   "id": "bfd821a4",
   "metadata": {},
   "outputs": [],
   "source": [
    "l5"
   ]
  },
  {
   "cell_type": "code",
   "execution_count": null,
   "id": "15670220",
   "metadata": {},
   "outputs": [],
   "source": [
    "l5.pop(2)"
   ]
  },
  {
   "cell_type": "code",
   "execution_count": null,
   "id": "d58abaf6",
   "metadata": {},
   "outputs": [],
   "source": [
    "l5"
   ]
  },
  {
   "cell_type": "code",
   "execution_count": null,
   "id": "a7299378",
   "metadata": {},
   "outputs": [],
   "source": [
    "l5.remove(3)\n",
    "l5"
   ]
  },
  {
   "cell_type": "code",
   "execution_count": null,
   "id": "f23275ef",
   "metadata": {},
   "outputs": [],
   "source": [
    "l5.reverse()\n",
    "l5"
   ]
  },
  {
   "cell_type": "code",
   "execution_count": null,
   "id": "5efb1e9d",
   "metadata": {},
   "outputs": [],
   "source": [
    "l5.sort()\n",
    "l5"
   ]
  },
  {
   "cell_type": "code",
   "execution_count": 11,
   "id": "f1fbb3c7",
   "metadata": {},
   "outputs": [
    {
     "name": "stdout",
     "output_type": "stream",
     "text": [
      "prachi\n",
      "vipul\n"
     ]
    }
   ],
   "source": [
    "list1=['prachi','vipul','shivam','yash','alex']\n",
    "for i in list1:\n",
    " if i=='shivam':\n",
    "    break\n",
    " print(i)   \n"
   ]
  },
  {
   "cell_type": "code",
   "execution_count": 12,
   "id": "f157866b",
   "metadata": {},
   "outputs": [
    {
     "name": "stdout",
     "output_type": "stream",
     "text": [
      "prachi\n",
      "vipul\n",
      "yash\n",
      "alex\n"
     ]
    }
   ],
   "source": [
    "for i in list1:\n",
    " if i=='shivam':\n",
    "    continue\n",
    " print(i)  "
   ]
  },
  {
   "cell_type": "code",
   "execution_count": 14,
   "id": "3aa4a6fa",
   "metadata": {},
   "outputs": [
    {
     "name": "stdout",
     "output_type": "stream",
     "text": [
      "prachi\n",
      "vipul\n",
      "shivam\n",
      "yash\n",
      "alex\n"
     ]
    }
   ],
   "source": [
    "for i in list1:\n",
    " if i=='shivam':\n",
    "    pass\n",
    " print(i)  "
   ]
  },
  {
   "cell_type": "code",
   "execution_count": null,
   "id": "5bd619aa",
   "metadata": {},
   "outputs": [],
   "source": []
  }
 ],
 "metadata": {
  "kernelspec": {
   "display_name": "Python 3 (ipykernel)",
   "language": "python",
   "name": "python3"
  },
  "language_info": {
   "codemirror_mode": {
    "name": "ipython",
    "version": 3
   },
   "file_extension": ".py",
   "mimetype": "text/x-python",
   "name": "python",
   "nbconvert_exporter": "python",
   "pygments_lexer": "ipython3",
   "version": "3.9.7"
  }
 },
 "nbformat": 4,
 "nbformat_minor": 5
}
