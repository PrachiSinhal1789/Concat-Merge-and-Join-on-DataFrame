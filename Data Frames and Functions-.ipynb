{
 "cells": [
  {
   "cell_type": "markdown",
   "id": "3f4240f1",
   "metadata": {},
   "source": [
    "# Functions\n",
    "-There are two types of functions in python\n",
    "  1.Built-in functions\n",
    "  2.Used defined functions(UDF)"
   ]
  },
  {
   "cell_type": "markdown",
   "id": "ab352bfa",
   "metadata": {},
   "source": [
    "# User defined functions\n"
   ]
  },
  {
   "cell_type": "code",
   "execution_count": 1,
   "id": "d9eb5fbd",
   "metadata": {},
   "outputs": [
    {
     "data": {
      "text/plain": [
       "200"
      ]
     },
     "execution_count": 1,
     "metadata": {},
     "output_type": "execute_result"
    }
   ],
   "source": [
    "def area_of_rectangle(length,breadth):\n",
    "    area=length * breadth\n",
    "    return area\n",
    "    \n",
    "area_of_rectangle(10,20)    "
   ]
  },
  {
   "cell_type": "code",
   "execution_count": 2,
   "id": "af480eba",
   "metadata": {},
   "outputs": [],
   "source": [
    "def square(a):\n",
    "    sq=a*a\n",
    "    return sq\n"
   ]
  },
  {
   "cell_type": "code",
   "execution_count": 3,
   "id": "ebf1014b",
   "metadata": {},
   "outputs": [
    {
     "data": {
      "text/plain": [
       "100"
      ]
     },
     "execution_count": 3,
     "metadata": {},
     "output_type": "execute_result"
    }
   ],
   "source": [
    "square(10)"
   ]
  },
  {
   "cell_type": "code",
   "execution_count": 4,
   "id": "840211dc",
   "metadata": {},
   "outputs": [
    {
     "data": {
      "text/plain": [
       "[1, 2, 3, 4, 5, 6, 7, 8]"
      ]
     },
     "execution_count": 4,
     "metadata": {},
     "output_type": "execute_result"
    }
   ],
   "source": [
    "def add_list(list1,list2):\n",
    "    list1.extend(list2)\n",
    "    return list1\n",
    "\n",
    "add_list([1,2,3,4],[5,6,7,8])"
   ]
  },
  {
   "cell_type": "markdown",
   "id": "62d941b2",
   "metadata": {},
   "source": [
    "# Data Frames\n",
    "-Data Frame is a two dimensional array which stores the data in a tabular format"
   ]
  },
  {
   "cell_type": "code",
   "execution_count": 5,
   "id": "1307cdeb",
   "metadata": {},
   "outputs": [],
   "source": [
    "#scalar objects\n",
    "a=7"
   ]
  },
  {
   "cell_type": "code",
   "execution_count": 6,
   "id": "26840daf",
   "metadata": {},
   "outputs": [],
   "source": [
    "#vector objects, 1D objects\n",
    "b=[7,5]"
   ]
  },
  {
   "cell_type": "code",
   "execution_count": 7,
   "id": "e3a46254",
   "metadata": {},
   "outputs": [
    {
     "data": {
      "text/plain": [
       "6"
      ]
     },
     "execution_count": 7,
     "metadata": {},
     "output_type": "execute_result"
    }
   ],
   "source": [
    "#2D objects\n",
    "c=[[1,2,3,4],[5,6,7,8],[9,10,11,12]]\n",
    "c[1][1]"
   ]
  },
  {
   "cell_type": "code",
   "execution_count": 8,
   "id": "c53ff796",
   "metadata": {},
   "outputs": [
    {
     "data": {
      "text/plain": [
       "8"
      ]
     },
     "execution_count": 8,
     "metadata": {},
     "output_type": "execute_result"
    }
   ],
   "source": [
    "#3D objects\n",
    "d=[[[1,2,3],[4,5,6]],\n",
    "    [[7,8,9],[10,11,12]]]\n",
    "d[1][0][1]"
   ]
  },
  {
   "cell_type": "code",
   "execution_count": 9,
   "id": "36336f74",
   "metadata": {},
   "outputs": [
    {
     "data": {
      "text/plain": [
       "5"
      ]
     },
     "execution_count": 9,
     "metadata": {},
     "output_type": "execute_result"
    }
   ],
   "source": [
    "d[0][1][1]"
   ]
  },
  {
   "cell_type": "code",
   "execution_count": 10,
   "id": "078fd8e2",
   "metadata": {},
   "outputs": [],
   "source": [
    "import pandas as pd\n"
   ]
  },
  {
   "cell_type": "code",
   "execution_count": 11,
   "id": "4b3a9438",
   "metadata": {},
   "outputs": [],
   "source": [
    "df = pd.DataFrame(c)"
   ]
  },
  {
   "cell_type": "code",
   "execution_count": 12,
   "id": "2c4a437e",
   "metadata": {},
   "outputs": [
    {
     "data": {
      "text/html": [
       "<div>\n",
       "<style scoped>\n",
       "    .dataframe tbody tr th:only-of-type {\n",
       "        vertical-align: middle;\n",
       "    }\n",
       "\n",
       "    .dataframe tbody tr th {\n",
       "        vertical-align: top;\n",
       "    }\n",
       "\n",
       "    .dataframe thead th {\n",
       "        text-align: right;\n",
       "    }\n",
       "</style>\n",
       "<table border=\"1\" class=\"dataframe\">\n",
       "  <thead>\n",
       "    <tr style=\"text-align: right;\">\n",
       "      <th></th>\n",
       "      <th>0</th>\n",
       "      <th>1</th>\n",
       "      <th>2</th>\n",
       "      <th>3</th>\n",
       "    </tr>\n",
       "  </thead>\n",
       "  <tbody>\n",
       "    <tr>\n",
       "      <th>0</th>\n",
       "      <td>1</td>\n",
       "      <td>2</td>\n",
       "      <td>3</td>\n",
       "      <td>4</td>\n",
       "    </tr>\n",
       "    <tr>\n",
       "      <th>1</th>\n",
       "      <td>5</td>\n",
       "      <td>6</td>\n",
       "      <td>7</td>\n",
       "      <td>8</td>\n",
       "    </tr>\n",
       "    <tr>\n",
       "      <th>2</th>\n",
       "      <td>9</td>\n",
       "      <td>10</td>\n",
       "      <td>11</td>\n",
       "      <td>12</td>\n",
       "    </tr>\n",
       "  </tbody>\n",
       "</table>\n",
       "</div>"
      ],
      "text/plain": [
       "   0   1   2   3\n",
       "0  1   2   3   4\n",
       "1  5   6   7   8\n",
       "2  9  10  11  12"
      ]
     },
     "execution_count": 12,
     "metadata": {},
     "output_type": "execute_result"
    }
   ],
   "source": [
    "df\n"
   ]
  },
  {
   "cell_type": "markdown",
   "id": "da122461",
   "metadata": {},
   "source": [
    "# Key Libraries"
   ]
  },
  {
   "cell_type": "markdown",
   "id": "42810565",
   "metadata": {},
   "source": [
    "##  Pandas\n",
    "     -It is used for handling and manipulating Dataframes(2 D objects)\n",
    "     -Dataframe is a special kind of data structure which allows you to store data in a tabular format"
   ]
  },
  {
   "cell_type": "markdown",
   "id": "fe759269",
   "metadata": {},
   "source": [
    "## Numpy\n",
    "    -Numerical Python\n",
    "    -It is used for numerical operationS"
   ]
  },
  {
   "cell_type": "markdown",
   "id": "793acef7",
   "metadata": {},
   "source": [
    "##  Matplotlib and Seaborn\n",
    "    -It is used for data visualization in python\n",
    "    -Seaborn is built on Matplotlib"
   ]
  },
  {
   "cell_type": "markdown",
   "id": "0f61b5ac",
   "metadata": {},
   "source": [
    "##  Scipy\n",
    "    -Scientific Python\n",
    "    -It is used for complex statistical operations(inferential statistics)"
   ]
  },
  {
   "cell_type": "markdown",
   "id": "2a7e29cf",
   "metadata": {},
   "source": [
    "##  Statsmodel\n",
    "    -It is used for statistical modelling\n",
    "   "
   ]
  },
  {
   "cell_type": "markdown",
   "id": "1a7e8272",
   "metadata": {},
   "source": [
    "##  Sklearn\n",
    "    -Sci-kit learn\n",
    "    -It is used for machine learning algorithms"
   ]
  },
  {
   "cell_type": "markdown",
   "id": "bd883260",
   "metadata": {},
   "source": [
    "## Deep dive into Pandas"
   ]
  },
  {
   "cell_type": "code",
   "execution_count": 13,
   "id": "3162bffd",
   "metadata": {},
   "outputs": [
    {
     "data": {
      "text/plain": [
       "0    10\n",
       "1    20\n",
       "2    30\n",
       "3    40\n",
       "dtype: int64"
      ]
     },
     "execution_count": 13,
     "metadata": {},
     "output_type": "execute_result"
    }
   ],
   "source": [
    "series1=pd.Series([10,20,30,40])\n",
    "series1"
   ]
  },
  {
   "cell_type": "code",
   "execution_count": 14,
   "id": "edd5edca",
   "metadata": {},
   "outputs": [
    {
     "data": {
      "text/plain": [
       "20"
      ]
     },
     "execution_count": 14,
     "metadata": {},
     "output_type": "execute_result"
    }
   ],
   "source": [
    "series1.loc[1]"
   ]
  },
  {
   "cell_type": "code",
   "execution_count": 15,
   "id": "25dc1e24",
   "metadata": {},
   "outputs": [
    {
     "data": {
      "text/plain": [
       "a    10\n",
       "b    20\n",
       "dtype: int64"
      ]
     },
     "execution_count": 15,
     "metadata": {},
     "output_type": "execute_result"
    }
   ],
   "source": [
    "series2=pd.Series({'a':10,'b':20})\n",
    "series2"
   ]
  },
  {
   "cell_type": "code",
   "execution_count": 16,
   "id": "d4f97692",
   "metadata": {},
   "outputs": [
    {
     "data": {
      "text/plain": [
       "10"
      ]
     },
     "execution_count": 16,
     "metadata": {},
     "output_type": "execute_result"
    }
   ],
   "source": [
    "series2.loc['a']"
   ]
  },
  {
   "cell_type": "code",
   "execution_count": 17,
   "id": "b2846d86",
   "metadata": {},
   "outputs": [
    {
     "data": {
      "text/plain": [
       "1    Prachi\n",
       "2     Vipul\n",
       "3    Raghav\n",
       "4    Aayush\n",
       "dtype: object"
      ]
     },
     "execution_count": 17,
     "metadata": {},
     "output_type": "execute_result"
    }
   ],
   "source": [
    "series3=pd.Series({1:'Prachi',2:'Vipul',3:'Raghav',4:'Aayush'})\n",
    "series3"
   ]
  },
  {
   "cell_type": "code",
   "execution_count": 21,
   "id": "6d3395da",
   "metadata": {},
   "outputs": [
    {
     "data": {
      "text/html": [
       "<div>\n",
       "<style scoped>\n",
       "    .dataframe tbody tr th:only-of-type {\n",
       "        vertical-align: middle;\n",
       "    }\n",
       "\n",
       "    .dataframe tbody tr th {\n",
       "        vertical-align: top;\n",
       "    }\n",
       "\n",
       "    .dataframe thead th {\n",
       "        text-align: right;\n",
       "    }\n",
       "</style>\n",
       "<table border=\"1\" class=\"dataframe\">\n",
       "  <thead>\n",
       "    <tr style=\"text-align: right;\">\n",
       "      <th></th>\n",
       "      <th>roll no</th>\n",
       "    </tr>\n",
       "  </thead>\n",
       "  <tbody>\n",
       "    <tr>\n",
       "      <th>Prachi</th>\n",
       "      <td>1</td>\n",
       "    </tr>\n",
       "    <tr>\n",
       "      <th>Vipul</th>\n",
       "      <td>2</td>\n",
       "    </tr>\n",
       "    <tr>\n",
       "      <th>Raghav</th>\n",
       "      <td>3</td>\n",
       "    </tr>\n",
       "    <tr>\n",
       "      <th>Joseph</th>\n",
       "      <td>4</td>\n",
       "    </tr>\n",
       "  </tbody>\n",
       "</table>\n",
       "</div>"
      ],
      "text/plain": [
       "        roll no\n",
       "Prachi        1\n",
       "Vipul         2\n",
       "Raghav        3\n",
       "Joseph        4"
      ]
     },
     "execution_count": 21,
     "metadata": {},
     "output_type": "execute_result"
    }
   ],
   "source": [
    "series3=pd.DataFrame([1,2,3,4],['Prachi','Vipul','Raghav','Joseph'],['roll no'])\n",
    "series3"
   ]
  },
  {
   "cell_type": "code",
   "execution_count": 26,
   "id": "4efb2be2",
   "metadata": {},
   "outputs": [
    {
     "data": {
      "text/html": [
       "<div>\n",
       "<style scoped>\n",
       "    .dataframe tbody tr th:only-of-type {\n",
       "        vertical-align: middle;\n",
       "    }\n",
       "\n",
       "    .dataframe tbody tr th {\n",
       "        vertical-align: top;\n",
       "    }\n",
       "\n",
       "    .dataframe thead th {\n",
       "        text-align: right;\n",
       "    }\n",
       "</style>\n",
       "<table border=\"1\" class=\"dataframe\">\n",
       "  <thead>\n",
       "    <tr style=\"text-align: right;\">\n",
       "      <th></th>\n",
       "      <th>name</th>\n",
       "    </tr>\n",
       "  </thead>\n",
       "  <tbody>\n",
       "    <tr>\n",
       "      <th>1</th>\n",
       "      <td>Prachi</td>\n",
       "    </tr>\n",
       "    <tr>\n",
       "      <th>2</th>\n",
       "      <td>Vipul</td>\n",
       "    </tr>\n",
       "    <tr>\n",
       "      <th>3</th>\n",
       "      <td>Raghav</td>\n",
       "    </tr>\n",
       "    <tr>\n",
       "      <th>4</th>\n",
       "      <td>Joseph</td>\n",
       "    </tr>\n",
       "  </tbody>\n",
       "</table>\n",
       "</div>"
      ],
      "text/plain": [
       "     name\n",
       "1  Prachi\n",
       "2   Vipul\n",
       "3  Raghav\n",
       "4  Joseph"
      ]
     },
     "execution_count": 26,
     "metadata": {},
     "output_type": "execute_result"
    }
   ],
   "source": [
    "df1=pd.DataFrame(['Prachi','Vipul','Raghav','Joseph'],[1,2,3,4],['name'])\n",
    "df1"
   ]
  },
  {
   "cell_type": "code",
   "execution_count": 24,
   "id": "691132b2",
   "metadata": {},
   "outputs": [],
   "source": [
    "df=pd.DataFrame({'Roll No.':[1,2,3,4],'Name':['Prachi','Vipul','Joseph','Alex']})"
   ]
  },
  {
   "cell_type": "code",
   "execution_count": 25,
   "id": "482ab45d",
   "metadata": {},
   "outputs": [
    {
     "data": {
      "text/html": [
       "<div>\n",
       "<style scoped>\n",
       "    .dataframe tbody tr th:only-of-type {\n",
       "        vertical-align: middle;\n",
       "    }\n",
       "\n",
       "    .dataframe tbody tr th {\n",
       "        vertical-align: top;\n",
       "    }\n",
       "\n",
       "    .dataframe thead th {\n",
       "        text-align: right;\n",
       "    }\n",
       "</style>\n",
       "<table border=\"1\" class=\"dataframe\">\n",
       "  <thead>\n",
       "    <tr style=\"text-align: right;\">\n",
       "      <th></th>\n",
       "      <th>Roll No.</th>\n",
       "      <th>Name</th>\n",
       "    </tr>\n",
       "  </thead>\n",
       "  <tbody>\n",
       "    <tr>\n",
       "      <th>0</th>\n",
       "      <td>1</td>\n",
       "      <td>Prachi</td>\n",
       "    </tr>\n",
       "    <tr>\n",
       "      <th>1</th>\n",
       "      <td>2</td>\n",
       "      <td>Vipul</td>\n",
       "    </tr>\n",
       "    <tr>\n",
       "      <th>2</th>\n",
       "      <td>3</td>\n",
       "      <td>Joseph</td>\n",
       "    </tr>\n",
       "    <tr>\n",
       "      <th>3</th>\n",
       "      <td>4</td>\n",
       "      <td>Alex</td>\n",
       "    </tr>\n",
       "  </tbody>\n",
       "</table>\n",
       "</div>"
      ],
      "text/plain": [
       "   Roll No.    Name\n",
       "0         1  Prachi\n",
       "1         2   Vipul\n",
       "2         3  Joseph\n",
       "3         4    Alex"
      ]
     },
     "execution_count": 25,
     "metadata": {},
     "output_type": "execute_result"
    }
   ],
   "source": [
    "df"
   ]
  },
  {
   "cell_type": "code",
   "execution_count": 28,
   "id": "70cc5bba",
   "metadata": {},
   "outputs": [
    {
     "data": {
      "text/plain": [
       "1    10\n",
       "2    20\n",
       "3    10\n",
       "dtype: int64"
      ]
     },
     "execution_count": 28,
     "metadata": {},
     "output_type": "execute_result"
    }
   ],
   "source": [
    "series4=pd.Series([10,20,10],index=[1,2,3])\n",
    "series4"
   ]
  },
  {
   "cell_type": "code",
   "execution_count": null,
   "id": "ba2f67ce",
   "metadata": {},
   "outputs": [],
   "source": []
  }
 ],
 "metadata": {
  "kernelspec": {
   "display_name": "Python 3 (ipykernel)",
   "language": "python",
   "name": "python3"
  },
  "language_info": {
   "codemirror_mode": {
    "name": "ipython",
    "version": 3
   },
   "file_extension": ".py",
   "mimetype": "text/x-python",
   "name": "python",
   "nbconvert_exporter": "python",
   "pygments_lexer": "ipython3",
   "version": "3.9.7"
  }
 },
 "nbformat": 4,
 "nbformat_minor": 5
}
