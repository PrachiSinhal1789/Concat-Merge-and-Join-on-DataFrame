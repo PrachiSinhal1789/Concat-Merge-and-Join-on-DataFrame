{
 "cells": [
  {
   "cell_type": "markdown",
   "metadata": {},
   "source": [
    "#                                              Pandas Assignment 1(A)\n"
   ]
  },
  {
   "cell_type": "markdown",
   "metadata": {},
   "source": [
    "\n",
    "\n",
    "### Step 1. Import the necessary libraries"
   ]
  },
  {
   "cell_type": "code",
   "execution_count": null,
   "metadata": {
    "ExecuteTime": {
     "end_time": "2022-05-13T17:42:55.237673Z",
     "start_time": "2022-05-13T17:42:55.237673Z"
    }
   },
   "outputs": [],
   "source": [
    "import pandas as pd\n",
    "import numpy as np"
   ]
  },
  {
   "cell_type": "markdown",
   "metadata": {},
   "source": [
    "### Step 2. Import the dataset "
   ]
  },
  {
   "cell_type": "code",
   "execution_count": null,
   "metadata": {
    "ExecuteTime": {
     "end_time": "2022-05-13T17:42:55.237673Z",
     "start_time": "2022-05-13T17:42:55.237673Z"
    }
   },
   "outputs": [],
   "source": [
    "tv=pd.read_csv('Pandas Assign 1(A).tsv',sep='\\t')\n",
    "tv.head()"
   ]
  },
  {
   "cell_type": "markdown",
   "metadata": {},
   "source": [
    "### Step 3. Assign it to a variable called chipo."
   ]
  },
  {
   "cell_type": "code",
   "execution_count": null,
   "metadata": {
    "ExecuteTime": {
     "end_time": "2022-05-13T17:42:55.237673Z",
     "start_time": "2022-05-13T17:42:55.237673Z"
    }
   },
   "outputs": [],
   "source": [
    "#chipo=tv #in this changes made in chipo will reflect in tv\n",
    "chipo=tv.copy()\n",
    "chipo.head()"
   ]
  },
  {
   "cell_type": "markdown",
   "metadata": {},
   "source": [
    " ### Step 4. See the first 10 entries"
   ]
  },
  {
   "cell_type": "code",
   "execution_count": null,
   "metadata": {
    "ExecuteTime": {
     "end_time": "2022-05-13T17:42:55.245671Z",
     "start_time": "2022-05-13T17:42:55.245671Z"
    },
    "scrolled": false
   },
   "outputs": [],
   "source": [
    "chipo.head(10) #u can loc and iloc or at or iat"
   ]
  },
  {
   "cell_type": "code",
   "execution_count": null,
   "metadata": {
    "ExecuteTime": {
     "end_time": "2022-05-13T17:42:55.245671Z",
     "start_time": "2022-05-13T17:42:55.245671Z"
    },
    "scrolled": true
   },
   "outputs": [],
   "source": [
    "chipo.iloc[0:10,:]"
   ]
  },
  {
   "cell_type": "code",
   "execution_count": null,
   "metadata": {
    "ExecuteTime": {
     "end_time": "2022-05-13T17:42:55.245671Z",
     "start_time": "2022-05-13T17:42:55.245671Z"
    },
    "scrolled": true
   },
   "outputs": [],
   "source": [
    "chipo.loc[0:9,:]"
   ]
  },
  {
   "cell_type": "code",
   "execution_count": null,
   "metadata": {
    "ExecuteTime": {
     "end_time": "2022-05-13T17:42:55.245671Z",
     "start_time": "2022-05-13T17:42:55.245671Z"
    }
   },
   "outputs": [],
   "source": [
    "chipo.at[9,'item_name']"
   ]
  },
  {
   "cell_type": "markdown",
   "metadata": {},
   "source": [
    "### Step 5. What is the number of observations in the dataset?"
   ]
  },
  {
   "cell_type": "code",
   "execution_count": null,
   "metadata": {
    "ExecuteTime": {
     "end_time": "2022-05-13T17:42:55.253670Z",
     "start_time": "2022-05-13T17:42:55.253670Z"
    }
   },
   "outputs": [],
   "source": [
    "len(chipo)"
   ]
  },
  {
   "cell_type": "code",
   "execution_count": null,
   "metadata": {
    "ExecuteTime": {
     "end_time": "2022-05-13T17:42:55.253670Z",
     "start_time": "2022-05-13T17:42:55.253670Z"
    }
   },
   "outputs": [],
   "source": [
    "chipo.shape"
   ]
  },
  {
   "cell_type": "code",
   "execution_count": null,
   "metadata": {
    "ExecuteTime": {
     "end_time": "2022-05-13T17:42:55.253670Z",
     "start_time": "2022-05-13T17:42:55.253670Z"
    }
   },
   "outputs": [],
   "source": [
    "chipo.shape[0]"
   ]
  },
  {
   "cell_type": "code",
   "execution_count": null,
   "metadata": {
    "ExecuteTime": {
     "end_time": "2022-05-13T17:42:55.261669Z",
     "start_time": "2022-05-13T17:42:55.261669Z"
    },
    "scrolled": true
   },
   "outputs": [],
   "source": [
    "chipo.axes"
   ]
  },
  {
   "cell_type": "code",
   "execution_count": null,
   "metadata": {
    "ExecuteTime": {
     "end_time": "2022-05-13T17:42:55.261669Z",
     "start_time": "2022-05-13T17:42:55.261669Z"
    }
   },
   "outputs": [],
   "source": [
    "chipo.axes[0]"
   ]
  },
  {
   "cell_type": "code",
   "execution_count": null,
   "metadata": {
    "ExecuteTime": {
     "end_time": "2022-05-13T17:42:55.261669Z",
     "start_time": "2022-05-13T17:42:55.261669Z"
    }
   },
   "outputs": [],
   "source": [
    "len(chipo.axes[0])"
   ]
  },
  {
   "cell_type": "code",
   "execution_count": null,
   "metadata": {
    "ExecuteTime": {
     "end_time": "2022-05-13T17:42:55.261669Z",
     "start_time": "2022-05-13T17:42:55.261669Z"
    }
   },
   "outputs": [],
   "source": [
    "chipo[chipo.columns[1]].count()   #this is used to return no of rows with non null values in that column"
   ]
  },
  {
   "cell_type": "markdown",
   "metadata": {},
   "source": [
    "### Step 6. What is the number of columns in the dataset?"
   ]
  },
  {
   "cell_type": "code",
   "execution_count": null,
   "metadata": {
    "ExecuteTime": {
     "end_time": "2022-05-13T17:42:55.269667Z",
     "start_time": "2022-05-13T17:42:55.269667Z"
    }
   },
   "outputs": [],
   "source": [
    "len(chipo.columns)"
   ]
  },
  {
   "cell_type": "markdown",
   "metadata": {},
   "source": [
    "### Step 7. Print the name of all the columns."
   ]
  },
  {
   "cell_type": "code",
   "execution_count": null,
   "metadata": {
    "ExecuteTime": {
     "end_time": "2022-05-13T17:42:55.269667Z",
     "start_time": "2022-05-13T17:42:55.269667Z"
    }
   },
   "outputs": [],
   "source": [
    "chipo.columns"
   ]
  },
  {
   "cell_type": "code",
   "execution_count": null,
   "metadata": {
    "ExecuteTime": {
     "end_time": "2022-05-13T17:42:55.269667Z",
     "start_time": "2022-05-13T17:42:55.269667Z"
    }
   },
   "outputs": [],
   "source": [
    "range(len(chipo.columns))"
   ]
  },
  {
   "cell_type": "code",
   "execution_count": null,
   "metadata": {
    "ExecuteTime": {
     "end_time": "2022-05-13T17:42:55.277924Z",
     "start_time": "2022-05-13T17:42:55.277924Z"
    }
   },
   "outputs": [],
   "source": [
    "for(columns,count) in zip(chipo.columns,range(len(chipo.columns))):\n",
    "    print(f'Column{count+1} is:{columns}')"
   ]
  },
  {
   "cell_type": "markdown",
   "metadata": {},
   "source": [
    "### Step 8. How is the dataset indexed?"
   ]
  },
  {
   "cell_type": "code",
   "execution_count": null,
   "metadata": {
    "ExecuteTime": {
     "end_time": "2022-05-13T17:42:55.278929Z",
     "start_time": "2022-05-13T17:42:55.278929Z"
    },
    "scrolled": true
   },
   "outputs": [],
   "source": [
    "chipo.index  "
   ]
  },
  {
   "cell_type": "code",
   "execution_count": null,
   "metadata": {
    "ExecuteTime": {
     "end_time": "2022-05-13T17:42:55.278929Z",
     "start_time": "2022-05-13T17:42:55.278929Z"
    }
   },
   "outputs": [],
   "source": [
    "chipo.axes[0]"
   ]
  },
  {
   "cell_type": "code",
   "execution_count": null,
   "metadata": {
    "ExecuteTime": {
     "end_time": "2022-05-13T17:42:55.278929Z",
     "start_time": "2022-05-13T17:42:55.278929Z"
    }
   },
   "outputs": [],
   "source": [
    "len(chipo)"
   ]
  },
  {
   "cell_type": "code",
   "execution_count": null,
   "metadata": {
    "ExecuteTime": {
     "end_time": "2022-05-13T17:42:55.286935Z",
     "start_time": "2022-05-13T17:42:55.286935Z"
    }
   },
   "outputs": [],
   "source": [
    "chipo.head()"
   ]
  },
  {
   "cell_type": "markdown",
   "metadata": {},
   "source": [
    "### Step 9. Which was the most-ordered item? "
   ]
  },
  {
   "cell_type": "code",
   "execution_count": null,
   "metadata": {
    "ExecuteTime": {
     "end_time": "2022-05-13T17:42:55.286935Z",
     "start_time": "2022-05-13T17:42:55.286935Z"
    },
    "scrolled": false
   },
   "outputs": [],
   "source": [
    "chipo['item_name'].mode()"
   ]
  },
  {
   "cell_type": "code",
   "execution_count": null,
   "metadata": {
    "ExecuteTime": {
     "end_time": "2022-05-13T17:42:55.286935Z",
     "start_time": "2022-05-13T17:42:55.286935Z"
    },
    "scrolled": true
   },
   "outputs": [],
   "source": [
    "chipo['item_name'].value_counts().idxmax()"
   ]
  },
  {
   "cell_type": "code",
   "execution_count": null,
   "metadata": {
    "ExecuteTime": {
     "end_time": "2022-05-13T17:42:55.286935Z",
     "start_time": "2022-05-13T17:42:55.286935Z"
    },
    "scrolled": true
   },
   "outputs": [],
   "source": [
    "chipo['item_name'].value_counts().index[0]"
   ]
  },
  {
   "cell_type": "code",
   "execution_count": null,
   "metadata": {
    "ExecuteTime": {
     "end_time": "2022-05-13T17:42:55.294933Z",
     "start_time": "2022-05-13T17:42:55.294933Z"
    }
   },
   "outputs": [],
   "source": [
    "chipo.groupby('item_name').sum()['quantity']"
   ]
  },
  {
   "cell_type": "code",
   "execution_count": null,
   "metadata": {
    "ExecuteTime": {
     "end_time": "2022-05-13T17:42:55.294933Z",
     "start_time": "2022-05-13T17:42:55.294933Z"
    }
   },
   "outputs": [],
   "source": [
    "chipo.groupby('item_name').sum().sort_values('quantity',ascending=False).head(1)"
   ]
  },
  {
   "cell_type": "code",
   "execution_count": null,
   "metadata": {
    "ExecuteTime": {
     "end_time": "2022-05-13T17:42:55.294933Z",
     "start_time": "2022-05-13T17:42:55.294933Z"
    }
   },
   "outputs": [],
   "source": [
    "items = chipo[\"item_name\"].value_counts().index\n",
    "print(f'{items[0]} was the most ordered item')\n"
   ]
  },
  {
   "cell_type": "code",
   "execution_count": null,
   "metadata": {
    "ExecuteTime": {
     "end_time": "2022-05-13T17:42:55.302933Z",
     "start_time": "2022-05-13T17:42:55.302933Z"
    }
   },
   "outputs": [],
   "source": [
    "orders = chipo[\"item_name\"].value_counts()\n",
    "print(f'{items[0]} was ordered {orders[0]} times')"
   ]
  },
  {
   "cell_type": "code",
   "execution_count": null,
   "metadata": {
    "ExecuteTime": {
     "end_time": "2022-05-13T17:42:55.302933Z",
     "start_time": "2022-05-13T17:42:55.302933Z"
    }
   },
   "outputs": [],
   "source": [
    "chipo['item_name'].value_counts()[chipo['item_name'].mode()]"
   ]
  },
  {
   "cell_type": "markdown",
   "metadata": {},
   "source": [
    "### Step 10. For the most-ordered item, how many items were ordered?"
   ]
  },
  {
   "cell_type": "code",
   "execution_count": null,
   "metadata": {
    "ExecuteTime": {
     "end_time": "2022-05-13T17:42:55.302933Z",
     "start_time": "2022-05-13T17:42:55.302933Z"
    }
   },
   "outputs": [],
   "source": [
    "chipo.groupby('item_name')['quantity'].sum().max()"
   ]
  },
  {
   "cell_type": "code",
   "execution_count": null,
   "metadata": {
    "ExecuteTime": {
     "end_time": "2022-05-13T17:42:55.310934Z",
     "start_time": "2022-05-13T17:42:55.310934Z"
    }
   },
   "outputs": [],
   "source": [
    "chipo.groupby('item_name').sum()['quantity'].max()"
   ]
  },
  {
   "cell_type": "code",
   "execution_count": null,
   "metadata": {
    "ExecuteTime": {
     "end_time": "2022-05-13T17:42:55.310934Z",
     "start_time": "2022-05-13T17:42:55.310934Z"
    }
   },
   "outputs": [],
   "source": [
    "most = chipo.groupby('item_name')['quantity'].sum().reset_index(name='count').sort_values(by = ['count'], ascending = False).head(1)\n",
    "most"
   ]
  },
  {
   "cell_type": "markdown",
   "metadata": {},
   "source": [
    "### Step 11. What was the most ordered item in the choice_description column?"
   ]
  },
  {
   "cell_type": "code",
   "execution_count": null,
   "metadata": {
    "ExecuteTime": {
     "end_time": "2022-05-13T17:42:55.310934Z",
     "start_time": "2022-05-13T17:42:55.310934Z"
    }
   },
   "outputs": [],
   "source": [
    "chipo['choice_description'].mode()"
   ]
  },
  {
   "cell_type": "code",
   "execution_count": null,
   "metadata": {
    "ExecuteTime": {
     "end_time": "2022-05-13T17:42:55.310934Z",
     "start_time": "2022-05-13T17:42:55.310934Z"
    }
   },
   "outputs": [],
   "source": [
    "chipo['choice_description'].value_counts()[chipo['choice_description'].mode()]"
   ]
  },
  {
   "cell_type": "code",
   "execution_count": null,
   "metadata": {
    "ExecuteTime": {
     "end_time": "2022-05-13T17:42:55.318933Z",
     "start_time": "2022-05-13T17:42:55.318933Z"
    }
   },
   "outputs": [],
   "source": [
    "chipo.groupby('choice_description')['quantity'].sum().max()"
   ]
  },
  {
   "cell_type": "markdown",
   "metadata": {},
   "source": [
    "### Step 12. How many items were orderd in total?"
   ]
  },
  {
   "cell_type": "code",
   "execution_count": null,
   "metadata": {
    "ExecuteTime": {
     "end_time": "2022-05-13T17:42:55.318933Z",
     "start_time": "2022-05-13T17:42:55.318933Z"
    }
   },
   "outputs": [],
   "source": [
    "chipo['quantity'].sum()"
   ]
  },
  {
   "cell_type": "markdown",
   "metadata": {},
   "source": [
    "### Step 13. Turn the item price into a float"
   ]
  },
  {
   "cell_type": "markdown",
   "metadata": {},
   "source": [
    "#### Step 13.a. Check the item price type"
   ]
  },
  {
   "cell_type": "code",
   "execution_count": null,
   "metadata": {
    "ExecuteTime": {
     "end_time": "2022-05-13T17:42:55.318933Z",
     "start_time": "2022-05-13T17:42:55.318933Z"
    }
   },
   "outputs": [],
   "source": [
    "chipo['item_price'].dtype"
   ]
  },
  {
   "cell_type": "markdown",
   "metadata": {},
   "source": [
    "#### Step 13.b. Create a lambda function and change the type of item price"
   ]
  },
  {
   "cell_type": "code",
   "execution_count": null,
   "metadata": {
    "ExecuteTime": {
     "end_time": "2022-05-13T17:42:55.326929Z",
     "start_time": "2022-05-13T17:42:55.326929Z"
    }
   },
   "outputs": [],
   "source": [
    "chipo_new=chipo.copy()\n",
    "chipo_new['item_price']=chipo['item_price'].str.replace(\"$\",\"\")\n",
    "chipo_new['item_price']=chipo_new['item_price'].astype(float)\n",
    "chipo_new.head()"
   ]
  },
  {
   "cell_type": "code",
   "execution_count": null,
   "metadata": {
    "ExecuteTime": {
     "end_time": "2022-05-13T17:42:55.326929Z",
     "start_time": "2022-05-13T17:42:55.326929Z"
    },
    "scrolled": true
   },
   "outputs": [],
   "source": [
    "chipo1=lambda item_price:chipo['item_price'].str.replace('$','').astype(float)\n",
    "chipo['item_price']=chipo1('item_price')"
   ]
  },
  {
   "cell_type": "code",
   "execution_count": null,
   "metadata": {
    "ExecuteTime": {
     "end_time": "2022-05-13T17:42:55.326929Z",
     "start_time": "2022-05-13T17:42:55.326929Z"
    }
   },
   "outputs": [],
   "source": [
    "chipo.head()"
   ]
  },
  {
   "cell_type": "markdown",
   "metadata": {},
   "source": [
    "#### Step 13.c. Check the item price type"
   ]
  },
  {
   "cell_type": "code",
   "execution_count": null,
   "metadata": {
    "ExecuteTime": {
     "end_time": "2022-05-13T17:42:55.334928Z",
     "start_time": "2022-05-13T17:42:55.334928Z"
    }
   },
   "outputs": [],
   "source": [
    "chipo_new['item_price'].dtype"
   ]
  },
  {
   "cell_type": "markdown",
   "metadata": {},
   "source": [
    "### Step 14. How much was the revenue for the period in the dataset?"
   ]
  },
  {
   "cell_type": "code",
   "execution_count": null,
   "metadata": {
    "ExecuteTime": {
     "end_time": "2022-05-13T17:42:55.334928Z",
     "start_time": "2022-05-13T17:42:55.334928Z"
    }
   },
   "outputs": [],
   "source": [
    "(chipo_new['item_price']*chipo_new['quantity']).sum()"
   ]
  },
  {
   "cell_type": "markdown",
   "metadata": {},
   "source": [
    "### Step 15. How many orders were made in the period?"
   ]
  },
  {
   "cell_type": "code",
   "execution_count": null,
   "metadata": {
    "ExecuteTime": {
     "end_time": "2022-05-13T17:42:55.334928Z",
     "start_time": "2022-05-13T17:42:55.334928Z"
    },
    "scrolled": true
   },
   "outputs": [],
   "source": [
    "orders=chipo['order_id'].unique()\n",
    "len(orders)"
   ]
  },
  {
   "cell_type": "code",
   "execution_count": null,
   "metadata": {
    "ExecuteTime": {
     "end_time": "2022-05-13T17:42:55.334928Z",
     "start_time": "2022-05-13T17:42:55.334928Z"
    }
   },
   "outputs": [],
   "source": [
    "chipo['order_id'].nunique()"
   ]
  },
  {
   "cell_type": "markdown",
   "metadata": {},
   "source": [
    "### Step 16. What is the average revenue amount per order?"
   ]
  },
  {
   "cell_type": "code",
   "execution_count": null,
   "metadata": {
    "ExecuteTime": {
     "end_time": "2022-05-13T17:42:55.342929Z",
     "start_time": "2022-05-13T17:42:55.342929Z"
    }
   },
   "outputs": [],
   "source": [
    "# Solution 1\n",
    "(chipo_new['item_price']*chipo_new['quantity']).sum()/len(orders)"
   ]
  },
  {
   "cell_type": "code",
   "execution_count": null,
   "metadata": {
    "ExecuteTime": {
     "end_time": "2022-05-13T17:42:55.342929Z",
     "start_time": "2022-05-13T17:42:55.342929Z"
    }
   },
   "outputs": [],
   "source": [
    "# Solution 2\n",
    "\n"
   ]
  },
  {
   "cell_type": "markdown",
   "metadata": {},
   "source": [
    "### Step 17. How many different items are sold?"
   ]
  },
  {
   "cell_type": "code",
   "execution_count": null,
   "metadata": {
    "ExecuteTime": {
     "end_time": "2022-05-13T17:42:55.350928Z",
     "start_time": "2022-05-13T17:42:55.350928Z"
    }
   },
   "outputs": [],
   "source": [
    "a=chipo['item_name'].unique()\n",
    "len(a)"
   ]
  },
  {
   "cell_type": "code",
   "execution_count": null,
   "metadata": {
    "ExecuteTime": {
     "end_time": "2022-05-13T17:42:55.350928Z",
     "start_time": "2022-05-13T17:42:55.350928Z"
    }
   },
   "outputs": [],
   "source": [
    "chipo['item_name'].nunique()"
   ]
  },
  {
   "cell_type": "markdown",
   "metadata": {},
   "source": [
    "### Step 18. How many products cost more than $10.00?"
   ]
  },
  {
   "cell_type": "code",
   "execution_count": null,
   "metadata": {
    "ExecuteTime": {
     "end_time": "2022-05-13T17:42:55.350928Z",
     "start_time": "2022-05-13T17:42:55.350928Z"
    }
   },
   "outputs": [],
   "source": [
    "np.count_nonzero(chipo_new['item_price']>10.00)"
   ]
  },
  {
   "cell_type": "code",
   "execution_count": null,
   "metadata": {
    "ExecuteTime": {
     "end_time": "2022-05-13T17:42:55.350928Z",
     "start_time": "2022-05-13T17:42:55.350928Z"
    }
   },
   "outputs": [],
   "source": [
    "len(chipo[chipo['item_price']>10.00])"
   ]
  },
  {
   "cell_type": "markdown",
   "metadata": {},
   "source": [
    "### Step 19. What is the price of each item? \n",
    "###### print a data frame with only two columns item_name and item_price"
   ]
  },
  {
   "cell_type": "code",
   "execution_count": null,
   "metadata": {
    "ExecuteTime": {
     "end_time": "2022-05-13T17:42:55.358926Z",
     "start_time": "2022-05-13T17:42:55.358926Z"
    }
   },
   "outputs": [],
   "source": [
    "chipo.loc[:,['item_name','item_price']]  #here multiple rows for same item"
   ]
  },
  {
   "cell_type": "code",
   "execution_count": 56,
   "metadata": {
    "ExecuteTime": {
     "end_time": "2022-05-13T17:46:31.123502Z",
     "start_time": "2022-05-13T17:46:31.091500Z"
    }
   },
   "outputs": [
    {
     "data": {
      "text/plain": [
       "50"
      ]
     },
     "execution_count": 56,
     "metadata": {},
     "output_type": "execute_result"
    }
   ],
   "source": [
    "len(chipo[chipo.quantity==1][['item_name','item_price']].drop_duplicates('item_name'))"
   ]
  },
  {
   "cell_type": "code",
   "execution_count": 54,
   "metadata": {
    "ExecuteTime": {
     "end_time": "2022-05-13T17:44:15.046064Z",
     "start_time": "2022-05-13T17:44:14.805618Z"
    },
    "scrolled": true
   },
   "outputs": [
    {
     "data": {
      "text/html": [
       "<div>\n",
       "<style scoped>\n",
       "    .dataframe tbody tr th:only-of-type {\n",
       "        vertical-align: middle;\n",
       "    }\n",
       "\n",
       "    .dataframe tbody tr th {\n",
       "        vertical-align: top;\n",
       "    }\n",
       "\n",
       "    .dataframe thead th {\n",
       "        text-align: right;\n",
       "    }\n",
       "</style>\n",
       "<table border=\"1\" class=\"dataframe\">\n",
       "  <thead>\n",
       "    <tr style=\"text-align: right;\">\n",
       "      <th></th>\n",
       "      <th>item_name</th>\n",
       "      <th>item_price</th>\n",
       "    </tr>\n",
       "  </thead>\n",
       "  <tbody>\n",
       "    <tr>\n",
       "      <th>0</th>\n",
       "      <td>Chips and Fresh Tomato Salsa</td>\n",
       "      <td>2.39</td>\n",
       "    </tr>\n",
       "    <tr>\n",
       "      <th>1</th>\n",
       "      <td>Izze</td>\n",
       "      <td>3.39</td>\n",
       "    </tr>\n",
       "    <tr>\n",
       "      <th>2</th>\n",
       "      <td>Nantucket Nectar</td>\n",
       "      <td>3.39</td>\n",
       "    </tr>\n",
       "    <tr>\n",
       "      <th>3</th>\n",
       "      <td>Chips and Tomatillo-Green Chili Salsa</td>\n",
       "      <td>2.39</td>\n",
       "    </tr>\n",
       "    <tr>\n",
       "      <th>5</th>\n",
       "      <td>Chicken Bowl</td>\n",
       "      <td>10.98</td>\n",
       "    </tr>\n",
       "    <tr>\n",
       "      <th>...</th>\n",
       "      <td>...</td>\n",
       "      <td>...</td>\n",
       "    </tr>\n",
       "    <tr>\n",
       "      <th>3750</th>\n",
       "      <td>Carnitas Salad</td>\n",
       "      <td>8.99</td>\n",
       "    </tr>\n",
       "    <tr>\n",
       "      <th>3989</th>\n",
       "      <td>Chicken Salad</td>\n",
       "      <td>8.19</td>\n",
       "    </tr>\n",
       "    <tr>\n",
       "      <th>4235</th>\n",
       "      <td>Chicken Bowl</td>\n",
       "      <td>8.50</td>\n",
       "    </tr>\n",
       "    <tr>\n",
       "      <th>4509</th>\n",
       "      <td>Chips</td>\n",
       "      <td>1.99</td>\n",
       "    </tr>\n",
       "    <tr>\n",
       "      <th>4510</th>\n",
       "      <td>Barbacoa Bowl</td>\n",
       "      <td>11.49</td>\n",
       "    </tr>\n",
       "  </tbody>\n",
       "</table>\n",
       "<p>135 rows × 2 columns</p>\n",
       "</div>"
      ],
      "text/plain": [
       "                                  item_name  item_price\n",
       "0              Chips and Fresh Tomato Salsa        2.39\n",
       "1                                      Izze        3.39\n",
       "2                          Nantucket Nectar        3.39\n",
       "3     Chips and Tomatillo-Green Chili Salsa        2.39\n",
       "5                              Chicken Bowl       10.98\n",
       "...                                     ...         ...\n",
       "3750                         Carnitas Salad        8.99\n",
       "3989                          Chicken Salad        8.19\n",
       "4235                           Chicken Bowl        8.50\n",
       "4509                                  Chips        1.99\n",
       "4510                          Barbacoa Bowl       11.49\n",
       "\n",
       "[135 rows x 2 columns]"
      ]
     },
     "execution_count": 54,
     "metadata": {},
     "output_type": "execute_result"
    }
   ],
   "source": [
    "chipo[chipo.quantity==1][['item_name','item_price']].drop_duplicates(['item_name','item_price'])"
   ]
  },
  {
   "cell_type": "markdown",
   "metadata": {},
   "source": [
    "### Step 20. Sort by the name of the item"
   ]
  },
  {
   "cell_type": "code",
   "execution_count": null,
   "metadata": {
    "ExecuteTime": {
     "end_time": "2022-05-13T17:42:55.366923Z",
     "start_time": "2022-05-13T17:42:55.366923Z"
    }
   },
   "outputs": [],
   "source": [
    "chipo.sort_values(by='item_name',ascending=True)"
   ]
  },
  {
   "cell_type": "markdown",
   "metadata": {},
   "source": [
    "### Step 21. What was the quantity of the most expensive item ordered?"
   ]
  },
  {
   "cell_type": "code",
   "execution_count": 74,
   "metadata": {
    "ExecuteTime": {
     "end_time": "2022-05-13T18:13:27.079973Z",
     "start_time": "2022-05-13T18:13:27.047973Z"
    }
   },
   "outputs": [
    {
     "data": {
      "text/html": [
       "<div>\n",
       "<style scoped>\n",
       "    .dataframe tbody tr th:only-of-type {\n",
       "        vertical-align: middle;\n",
       "    }\n",
       "\n",
       "    .dataframe tbody tr th {\n",
       "        vertical-align: top;\n",
       "    }\n",
       "\n",
       "    .dataframe thead th {\n",
       "        text-align: right;\n",
       "    }\n",
       "</style>\n",
       "<table border=\"1\" class=\"dataframe\">\n",
       "  <thead>\n",
       "    <tr style=\"text-align: right;\">\n",
       "      <th></th>\n",
       "      <th>order_id</th>\n",
       "      <th>quantity</th>\n",
       "      <th>item_name</th>\n",
       "      <th>choice_description</th>\n",
       "      <th>item_price</th>\n",
       "    </tr>\n",
       "  </thead>\n",
       "  <tbody>\n",
       "    <tr>\n",
       "      <th>3598</th>\n",
       "      <td>1443</td>\n",
       "      <td>15</td>\n",
       "      <td>Chips and Fresh Tomato Salsa</td>\n",
       "      <td>NaN</td>\n",
       "      <td>44.25</td>\n",
       "    </tr>\n",
       "    <tr>\n",
       "      <th>3480</th>\n",
       "      <td>1398</td>\n",
       "      <td>3</td>\n",
       "      <td>Carnitas Bowl</td>\n",
       "      <td>[Roasted Chili Corn Salsa, [Fajita Vegetables,...</td>\n",
       "      <td>35.25</td>\n",
       "    </tr>\n",
       "    <tr>\n",
       "      <th>1254</th>\n",
       "      <td>511</td>\n",
       "      <td>4</td>\n",
       "      <td>Chicken Burrito</td>\n",
       "      <td>[Fresh Tomato Salsa, [Fajita Vegetables, Rice,...</td>\n",
       "      <td>35.00</td>\n",
       "    </tr>\n",
       "    <tr>\n",
       "      <th>3602</th>\n",
       "      <td>1443</td>\n",
       "      <td>4</td>\n",
       "      <td>Chicken Burrito</td>\n",
       "      <td>[Fresh Tomato Salsa, [Rice, Black Beans, Chees...</td>\n",
       "      <td>35.00</td>\n",
       "    </tr>\n",
       "    <tr>\n",
       "      <th>3601</th>\n",
       "      <td>1443</td>\n",
       "      <td>3</td>\n",
       "      <td>Veggie Burrito</td>\n",
       "      <td>[Fresh Tomato Salsa, [Fajita Vegetables, Rice,...</td>\n",
       "      <td>33.75</td>\n",
       "    </tr>\n",
       "    <tr>\n",
       "      <th>...</th>\n",
       "      <td>...</td>\n",
       "      <td>...</td>\n",
       "      <td>...</td>\n",
       "      <td>...</td>\n",
       "      <td>...</td>\n",
       "    </tr>\n",
       "    <tr>\n",
       "      <th>3936</th>\n",
       "      <td>1578</td>\n",
       "      <td>1</td>\n",
       "      <td>Canned Soda</td>\n",
       "      <td>[Diet Dr. Pepper]</td>\n",
       "      <td>1.09</td>\n",
       "    </tr>\n",
       "    <tr>\n",
       "      <th>2922</th>\n",
       "      <td>1162</td>\n",
       "      <td>1</td>\n",
       "      <td>Bottled Water</td>\n",
       "      <td>NaN</td>\n",
       "      <td>1.09</td>\n",
       "    </tr>\n",
       "    <tr>\n",
       "      <th>1396</th>\n",
       "      <td>567</td>\n",
       "      <td>1</td>\n",
       "      <td>Canned Soda</td>\n",
       "      <td>[Coca Cola]</td>\n",
       "      <td>1.09</td>\n",
       "    </tr>\n",
       "    <tr>\n",
       "      <th>2562</th>\n",
       "      <td>1014</td>\n",
       "      <td>1</td>\n",
       "      <td>Canned Soda</td>\n",
       "      <td>[Coca Cola]</td>\n",
       "      <td>1.09</td>\n",
       "    </tr>\n",
       "    <tr>\n",
       "      <th>1457</th>\n",
       "      <td>591</td>\n",
       "      <td>1</td>\n",
       "      <td>Canned Soda</td>\n",
       "      <td>[Sprite]</td>\n",
       "      <td>1.09</td>\n",
       "    </tr>\n",
       "  </tbody>\n",
       "</table>\n",
       "<p>4622 rows × 5 columns</p>\n",
       "</div>"
      ],
      "text/plain": [
       "      order_id  quantity                     item_name  \\\n",
       "3598      1443        15  Chips and Fresh Tomato Salsa   \n",
       "3480      1398         3                 Carnitas Bowl   \n",
       "1254       511         4               Chicken Burrito   \n",
       "3602      1443         4               Chicken Burrito   \n",
       "3601      1443         3                Veggie Burrito   \n",
       "...        ...       ...                           ...   \n",
       "3936      1578         1                   Canned Soda   \n",
       "2922      1162         1                 Bottled Water   \n",
       "1396       567         1                   Canned Soda   \n",
       "2562      1014         1                   Canned Soda   \n",
       "1457       591         1                   Canned Soda   \n",
       "\n",
       "                                     choice_description  item_price  \n",
       "3598                                                NaN       44.25  \n",
       "3480  [Roasted Chili Corn Salsa, [Fajita Vegetables,...       35.25  \n",
       "1254  [Fresh Tomato Salsa, [Fajita Vegetables, Rice,...       35.00  \n",
       "3602  [Fresh Tomato Salsa, [Rice, Black Beans, Chees...       35.00  \n",
       "3601  [Fresh Tomato Salsa, [Fajita Vegetables, Rice,...       33.75  \n",
       "...                                                 ...         ...  \n",
       "3936                                  [Diet Dr. Pepper]        1.09  \n",
       "2922                                                NaN        1.09  \n",
       "1396                                        [Coca Cola]        1.09  \n",
       "2562                                        [Coca Cola]        1.09  \n",
       "1457                                           [Sprite]        1.09  \n",
       "\n",
       "[4622 rows x 5 columns]"
      ]
     },
     "execution_count": 74,
     "metadata": {},
     "output_type": "execute_result"
    }
   ],
   "source": [
    "chipo.sort_values(by='item_price',ascending=False)"
   ]
  },
  {
   "cell_type": "code",
   "execution_count": 75,
   "metadata": {
    "ExecuteTime": {
     "end_time": "2022-05-13T18:14:00.033927Z",
     "start_time": "2022-05-13T18:14:00.025928Z"
    }
   },
   "outputs": [],
   "source": [
    "a=chipo['item_price'].max()"
   ]
  },
  {
   "cell_type": "code",
   "execution_count": 76,
   "metadata": {
    "ExecuteTime": {
     "end_time": "2022-05-13T18:14:47.027192Z",
     "start_time": "2022-05-13T18:14:47.003200Z"
    }
   },
   "outputs": [
    {
     "data": {
      "text/plain": [
       "15"
      ]
     },
     "execution_count": 76,
     "metadata": {},
     "output_type": "execute_result"
    }
   ],
   "source": [
    "chipo[chipo['item_price']==a]['quantity'].sum()"
   ]
  },
  {
   "cell_type": "markdown",
   "metadata": {},
   "source": [
    "### Step 22. How many times were a Veggie Salad Bowl ordered?"
   ]
  },
  {
   "cell_type": "code",
   "execution_count": null,
   "metadata": {
    "ExecuteTime": {
     "end_time": "2022-05-13T17:42:55.374923Z",
     "start_time": "2022-05-13T17:42:55.374923Z"
    },
    "scrolled": true
   },
   "outputs": [],
   "source": [
    "np.count_nonzero(chipo['item_name']=='Veggie Salad Bowl')"
   ]
  },
  {
   "cell_type": "code",
   "execution_count": null,
   "metadata": {
    "ExecuteTime": {
     "end_time": "2022-05-13T17:42:55.374923Z",
     "start_time": "2022-05-13T17:42:55.374923Z"
    }
   },
   "outputs": [],
   "source": [
    "chipo[chipo.item_name=='Veggie Salad Bowl'].sum()"
   ]
  },
  {
   "cell_type": "code",
   "execution_count": null,
   "metadata": {
    "ExecuteTime": {
     "end_time": "2022-05-13T17:42:55.382922Z",
     "start_time": "2022-05-13T17:42:55.382922Z"
    }
   },
   "outputs": [],
   "source": [
    "chipo[chipo.item_name=='Veggie Salad Bowl'].sum()['quantity']"
   ]
  },
  {
   "cell_type": "markdown",
   "metadata": {},
   "source": [
    "### Step 23. How many times people orderd more than one Canned Soda?"
   ]
  },
  {
   "cell_type": "code",
   "execution_count": null,
   "metadata": {
    "ExecuteTime": {
     "end_time": "2022-05-13T17:42:55.382922Z",
     "start_time": "2022-05-13T17:42:55.382922Z"
    }
   },
   "outputs": [],
   "source": [
    "np.count_nonzero((chipo['item_name']=='Canned Soda') & (chipo['quantity']>1))"
   ]
  },
  {
   "cell_type": "code",
   "execution_count": 79,
   "metadata": {
    "ExecuteTime": {
     "end_time": "2022-05-13T18:34:04.482235Z",
     "start_time": "2022-05-13T18:34:04.458232Z"
    }
   },
   "outputs": [
    {
     "data": {
      "text/plain": [
       "20"
      ]
     },
     "execution_count": 79,
     "metadata": {},
     "output_type": "execute_result"
    }
   ],
   "source": [
    "\n",
    "len(chipo.loc[(chipo['quantity'] > 1) & (chipo[\"item_name\"] == 'Canned Soda'),'quantity'])\n"
   ]
  },
  {
   "cell_type": "code",
   "execution_count": null,
   "metadata": {},
   "outputs": [],
   "source": []
  }
 ],
 "metadata": {
  "anaconda-cloud": {},
  "kernelspec": {
   "display_name": "Python 3 (ipykernel)",
   "language": "python",
   "name": "python3"
  },
  "language_info": {
   "codemirror_mode": {
    "name": "ipython",
    "version": 3
   },
   "file_extension": ".py",
   "mimetype": "text/x-python",
   "name": "python",
   "nbconvert_exporter": "python",
   "pygments_lexer": "ipython3",
   "version": "3.9.7"
  },
  "varInspector": {
   "cols": {
    "lenName": 16,
    "lenType": 16,
    "lenVar": 40
   },
   "kernels_config": {
    "python": {
     "delete_cmd_postfix": "",
     "delete_cmd_prefix": "del ",
     "library": "var_list.py",
     "varRefreshCmd": "print(var_dic_list())"
    },
    "r": {
     "delete_cmd_postfix": ") ",
     "delete_cmd_prefix": "rm(",
     "library": "var_list.r",
     "varRefreshCmd": "cat(var_dic_list()) "
    }
   },
   "types_to_exclude": [
    "module",
    "function",
    "builtin_function_or_method",
    "instance",
    "_Feature"
   ],
   "window_display": false
  }
 },
 "nbformat": 4,
 "nbformat_minor": 1
}
